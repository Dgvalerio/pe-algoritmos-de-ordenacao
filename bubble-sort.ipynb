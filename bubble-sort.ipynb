{
 "cells": [
  {
   "cell_type": "markdown",
   "source": [
    "# Bubble Sort - Implementação"
   ],
   "metadata": {
    "collapsed": false
   },
   "id": "76fa9147c971bf5d"
  },
  {
   "cell_type": "code",
   "execution_count": 1,
   "id": "initial_id",
   "metadata": {
    "collapsed": true,
    "ExecuteTime": {
     "end_time": "2023-10-03T00:51:10.522483Z",
     "start_time": "2023-10-03T00:51:10.519733Z"
    }
   },
   "outputs": [],
   "source": [
    "def bubbleSort(arr):\n",
    "  n = len(arr)\n",
    "\n",
    "  # Traverse through all array elements\n",
    "  for i in range(n):\n",
    "    swapped = False\n",
    "\n",
    "    # Last i elements are already in place\n",
    "    for j in range(0, n-i-1):\n",
    "\n",
    "      # Traverse the array from 0 to n-i-1\n",
    "      # Swap if the element found is greater\n",
    "      # than the next element\n",
    "      if arr[j] > arr[j+1]:\n",
    "        arr[j], arr[j+1] = arr[j+1], arr[j]\n",
    "        swapped = True\n",
    "    if (swapped == False):\n",
    "      break\n",
    "\n",
    "# This code is modified by Suraj krushna Yadav"
   ]
  },
  {
   "cell_type": "code",
   "execution_count": 2,
   "outputs": [
    {
     "name": "stdout",
     "output_type": "stream",
     "text": [
      "Sorted array:\n",
      "11 12 22 25 34 64 90 "
     ]
    }
   ],
   "source": [
    "# Driver code to test above\n",
    "if __name__ == \"__main__\":\n",
    "  arr = [64, 34, 25, 12, 22, 11, 90]\n",
    "\n",
    "  bubbleSort(arr)\n",
    "\n",
    "  print(\"Sorted array:\")\n",
    "  for i in range(len(arr)):\n",
    "    print(\"%d\" % arr[i], end=\" \")"
   ],
   "metadata": {
    "collapsed": false,
    "ExecuteTime": {
     "end_time": "2023-10-03T00:51:10.529859Z",
     "start_time": "2023-10-03T00:51:10.528629Z"
    }
   },
   "id": "5af974c0f006e893"
  }
 ],
 "metadata": {
  "kernelspec": {
   "display_name": "Python 3",
   "language": "python",
   "name": "python3"
  },
  "language_info": {
   "codemirror_mode": {
    "name": "ipython",
    "version": 2
   },
   "file_extension": ".py",
   "mimetype": "text/x-python",
   "name": "python",
   "nbconvert_exporter": "python",
   "pygments_lexer": "ipython2",
   "version": "2.7.6"
  }
 },
 "nbformat": 4,
 "nbformat_minor": 5
}
