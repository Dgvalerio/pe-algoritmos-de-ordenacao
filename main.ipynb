{
 "cells": [
  {
   "cell_type": "markdown",
   "source": [
    "# Comparação de Algoritmos de Ordenação\n",
    "Por Davi Gonçalves e Rafaella Nunes"
   ],
   "metadata": {
    "collapsed": false
   },
   "id": "642536b23937b91c"
  },
  {
   "cell_type": "markdown",
   "source": [
    "## Primeiro, a implementação:\n",
    "Os algoritmos aqui utilizados não foram criados por nós, mas sim foram retirados de fontes confiáveis e retem em seu conteúdo a referência para cada implementador."
   ],
   "metadata": {
    "collapsed": false
   },
   "id": "5431e79778180a2f"
  },
  {
   "cell_type": "markdown",
   "source": [
    "### Bubble Sort"
   ],
   "metadata": {
    "collapsed": false
   },
   "id": "a4db49ad91be977d"
  },
  {
   "cell_type": "code",
   "execution_count": 3,
   "outputs": [],
   "source": [
    "def bubbleSort(arr):\n",
    "  n = len(arr)\n",
    "\n",
    "  # Traverse through all array elements\n",
    "  for i in range(n):\n",
    "    swapped = False\n",
    "\n",
    "    # Last i elements are already in place\n",
    "    for j in range(0, n-i-1):\n",
    "\n",
    "      # Traverse the array from 0 to n-i-1\n",
    "      # Swap if the element found is greater\n",
    "      # than the next element\n",
    "      if arr[j] > arr[j+1]:\n",
    "        arr[j], arr[j+1] = arr[j+1], arr[j]\n",
    "        swapped = True\n",
    "    if (swapped == False):\n",
    "      break\n",
    "\n",
    "# This code is modified by Suraj krushna Yadav"
   ],
   "metadata": {
    "collapsed": false,
    "ExecuteTime": {
     "end_time": "2023-10-03T01:15:00.637960Z",
     "start_time": "2023-10-03T01:15:00.614790Z"
    }
   },
   "id": "cbec49e78cb648dd"
  },
  {
   "cell_type": "markdown",
   "source": [
    "### Insertion Sort"
   ],
   "metadata": {
    "collapsed": false
   },
   "id": "f5757c02d6c60f5d"
  },
  {
   "cell_type": "code",
   "execution_count": null,
   "outputs": [],
   "source": [
    "# Function to do insertion sort\n",
    "def insertionSort(arr):\n",
    "\n",
    "  # Traverse through 1 to len(arr)\n",
    "  for i in range(1, len(arr)):\n",
    "\n",
    "    key = arr[i]\n",
    "\n",
    "    # Move elements of arr[0..i-1], that are\n",
    "    # greater than key, to one position ahead\n",
    "    # of their current position\n",
    "    j = i-1\n",
    "    while j >= 0 and key < arr[j] :\n",
    "      arr[j + 1] = arr[j]\n",
    "      j -= 1\n",
    "    arr[j + 1] = key\n",
    "\n",
    "# This code is contributed by Mohit Kumra"
   ],
   "metadata": {
    "collapsed": false
   },
   "id": "168a6aa9a6829568"
  },
  {
   "cell_type": "markdown",
   "source": [
    "### Merge Sort"
   ],
   "metadata": {
    "collapsed": false
   },
   "id": "5f8e4fee350b4561"
  },
  {
   "cell_type": "code",
   "execution_count": 4,
   "outputs": [],
   "source": [
    "def mergeSort(arr):\n",
    "  if len(arr) > 1:\n",
    "\n",
    "    # Finding the mid of the array\n",
    "    mid = len(arr)//2\n",
    "\n",
    "    # Dividing the array elements\n",
    "    L = arr[:mid]\n",
    "\n",
    "    # Into 2 halves\n",
    "    R = arr[mid:]\n",
    "\n",
    "    # Sorting the first half\n",
    "    mergeSort(L)\n",
    "\n",
    "    # Sorting the second half\n",
    "    mergeSort(R)\n",
    "\n",
    "    i = j = k = 0\n",
    "\n",
    "    # Copy data to temp arrays L[] and R[]\n",
    "    while i < len(L) and j < len(R):\n",
    "      if L[i] <= R[j]:\n",
    "        arr[k] = L[i]\n",
    "        i += 1\n",
    "      else:\n",
    "        arr[k] = R[j]\n",
    "        j += 1\n",
    "      k += 1\n",
    "\n",
    "    # Checking if any element was left\n",
    "    while i < len(L):\n",
    "      arr[k] = L[i]\n",
    "      i += 1\n",
    "      k += 1\n",
    "\n",
    "    while j < len(R):\n",
    "      arr[k] = R[j]\n",
    "      j += 1\n",
    "      k += 1\n",
    "\n",
    "\n",
    "# Code to print the list\n",
    "def printList(arr):\n",
    "  for i in range(len(arr)):\n",
    "    print(arr[i], end=\" \")\n",
    "  print()\n",
    "\n",
    "# This code is contributed by Mayank Khanna"
   ],
   "metadata": {
    "collapsed": false,
    "ExecuteTime": {
     "end_time": "2023-10-03T01:15:00.639758Z",
     "start_time": "2023-10-03T01:15:00.621807Z"
    }
   },
   "id": "17d02bf5aafaa56b"
  },
  {
   "cell_type": "markdown",
   "source": [
    "### Quick Sort"
   ],
   "metadata": {
    "collapsed": false
   },
   "id": "1e90e5c4d9a04782"
  },
  {
   "cell_type": "code",
   "execution_count": 5,
   "outputs": [],
   "source": [
    "# Function to find the partition position\n",
    "def partition(array, low, high):\n",
    "  # Choose the rightmost element as pivot\n",
    "  pivot = array[high]\n",
    "\n",
    "  # Pointer for greater element\n",
    "  i = low - 1\n",
    "\n",
    "  # Traverse through all elements\n",
    "  # compare each element with pivot\n",
    "  for j in range(low, high):\n",
    "    if array[j] <= pivot:\n",
    "\n",
    "      # If element smaller than pivot is found\n",
    "      # swap it with the greater element pointed by i\n",
    "      i = i + 1\n",
    "\n",
    "      # Swapping element at i with element at j\n",
    "      (array[i], array[j]) = (array[j], array[i])\n",
    "\n",
    "  # Swap the pivot element with\n",
    "  # the greater element specified by i\n",
    "  (array[i + 1], array[high]) = (array[high], array[i + 1])\n",
    "\n",
    "  # Return the position from where partition is done\n",
    "  return i + 1\n",
    "\n",
    "\n",
    "# Function to perform quicksort\n",
    "def quicksort(array, low, high):\n",
    "  if low < high:\n",
    "\n",
    "    # Find pivot element such that\n",
    "    # element smaller than pivot are on the left\n",
    "    # element greater than pivot are on the right\n",
    "    pi = partition(array, low, high)\n",
    "\n",
    "    # Recursive call on the left of pivot\n",
    "    quicksort(array, low, pi - 1)\n",
    "\n",
    "    # Recursive call on the right of pivot\n",
    "    quicksort(array, pi + 1, high)\n",
    "\n",
    "# This code is contributed by Adnan Aliakbar"
   ],
   "metadata": {
    "collapsed": false,
    "ExecuteTime": {
     "end_time": "2023-10-03T01:15:00.639886Z",
     "start_time": "2023-10-03T01:15:00.625767Z"
    }
   },
   "id": "73c428be26fd6e8c"
  }
 ],
 "metadata": {
  "kernelspec": {
   "display_name": "Python 3",
   "language": "python",
   "name": "python3"
  },
  "language_info": {
   "codemirror_mode": {
    "name": "ipython",
    "version": 2
   },
   "file_extension": ".py",
   "mimetype": "text/x-python",
   "name": "python",
   "nbconvert_exporter": "python",
   "pygments_lexer": "ipython2",
   "version": "2.7.6"
  }
 },
 "nbformat": 4,
 "nbformat_minor": 5
}
