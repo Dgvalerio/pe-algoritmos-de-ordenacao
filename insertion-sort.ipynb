{
 "cells": [
  {
   "cell_type": "markdown",
   "source": [
    "# Insertion Sort - Implementação"
   ],
   "metadata": {
    "collapsed": false
   },
   "id": "eb0f12146dcb96c1"
  },
  {
   "cell_type": "code",
   "execution_count": 5,
   "id": "initial_id",
   "metadata": {
    "collapsed": true,
    "ExecuteTime": {
     "end_time": "2023-10-03T01:00:44.406128Z",
     "start_time": "2023-10-03T01:00:44.394343Z"
    }
   },
   "outputs": [],
   "source": [
    "# Function to do insertion sort\n",
    "def insertionSort(arr):\n",
    "\n",
    "  # Traverse through 1 to len(arr)\n",
    "  for i in range(1, len(arr)):\n",
    "\n",
    "    key = arr[i]\n",
    "\n",
    "    # Move elements of arr[0..i-1], that are\n",
    "    # greater than key, to one position ahead\n",
    "    # of their current position\n",
    "    j = i-1\n",
    "    while j >= 0 and key < arr[j] :\n",
    "      arr[j + 1] = arr[j]\n",
    "      j -= 1\n",
    "    arr[j + 1] = key\n",
    "\n",
    "# This code is contributed by Mohit Kumra\n"
   ]
  },
  {
   "cell_type": "code",
   "execution_count": 6,
   "outputs": [
    {
     "name": "stdout",
     "output_type": "stream",
     "text": [
      "Sorted array\n",
      "11 , 12 , 22 , 25 , 64 , "
     ]
    }
   ],
   "source": [
    "# Driver code to test above\n",
    "arr = [12, 11, 13, 5, 6]\n",
    "insertionSort(arr)\n",
    "for i in range(len(arr)):\n",
    "  print (\"% d\" % arr[i])"
   ],
   "metadata": {
    "collapsed": false,
    "ExecuteTime": {
     "end_time": "2023-10-03T01:00:44.407393Z",
     "start_time": "2023-10-03T01:00:44.398946Z"
    }
   },
   "id": "cb49c5f70b29e176"
  }
 ],
 "metadata": {
  "kernelspec": {
   "display_name": "Python 3",
   "language": "python",
   "name": "python3"
  },
  "language_info": {
   "codemirror_mode": {
    "name": "ipython",
    "version": 2
   },
   "file_extension": ".py",
   "mimetype": "text/x-python",
   "name": "python",
   "nbconvert_exporter": "python",
   "pygments_lexer": "ipython2",
   "version": "2.7.6"
  }
 },
 "nbformat": 4,
 "nbformat_minor": 5
}
